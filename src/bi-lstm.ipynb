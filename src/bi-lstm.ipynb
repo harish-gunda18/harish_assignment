{
 "cells": [
  {
   "cell_type": "code",
   "execution_count": 1,
   "metadata": {
    "_cell_guid": "b1076dfc-b9ad-4769-8c92-a6c4dae69d19",
    "_uuid": "8f2839f25d086af736a60e9eeb907d3b93b6e0e5"
   },
   "outputs": [
    {
     "name": "stdout",
     "output_type": "stream",
     "text": [
      "['train.csv', 'test.csv', 'sample_submission.csv']\n"
     ]
    }
   ],
   "source": [
    "# This Python 3 environment comes with many helpful analytics libraries installed\n",
    "# It is defined by the kaggle/python docker image: https://github.com/kaggle/docker-python\n",
    "# For example, here's several helpful packages to load in \n",
    "\n",
    "import numpy as np # linear algebra\n",
    "import pandas as pd # data processing, CSV file I/O (e.g. pd.read_csv)\n",
    "\n",
    "# Input data files are available in the \"../input/\" directory.\n",
    "# For example, running this (by clicking run or pressing Shift+Enter) will list the files in the input directory\n",
    "\n",
    "import os\n",
    "print(os.listdir(\"../input\"))\n",
    "import warnings\n",
    "warnings.filterwarnings('ignore')\n",
    "\n",
    "# Any results you write to the current directory are saved as output."
   ]
  },
  {
   "cell_type": "code",
   "execution_count": 2,
   "metadata": {
    "_cell_guid": "79c7e3d0-c299-4dcb-8224-4455121ee9b0",
    "_uuid": "d629ff2d2480ee46fbb7e2d37f6b5fab8052498a"
   },
   "outputs": [],
   "source": [
    "train_df=pd.read_csv(r'../input/train.csv')\n",
    "test_df=pd.read_csv(r'../input/test.csv')"
   ]
  },
  {
   "cell_type": "code",
   "execution_count": 3,
   "metadata": {},
   "outputs": [],
   "source": [
    "from nltk.tokenize.treebank import TreebankWordTokenizer\n",
    "from nltk.stem import WordNetLemmatizer\n",
    "from sklearn.model_selection import train_test_split"
   ]
  },
  {
   "cell_type": "code",
   "execution_count": 4,
   "metadata": {},
   "outputs": [],
   "source": [
    "HINDI_NEGATIVE_WORDS=['bakwas','ghatiya','bakar','bekar','sucks','fraud','madharchod',\n",
    "                      'bkwaas','bkwas','gandi','ganda','faltu','sucks','shit','feku','fake','nakli',\n",
    "                      'dumbass','steal','slow','garbage','very bad','fharji','farji','looted','loot','crashed','crash','बकवास']"
   ]
  },
  {
   "cell_type": "code",
   "execution_count": 5,
   "metadata": {},
   "outputs": [],
   "source": [
    "def tokenizer(text):\n",
    "    if text != '':\n",
    "        text=text.lower()\n",
    "        for word in HINDI_NEGATIVE_WORDS:\n",
    "            text=text.replace(word,'worst')\n",
    "        tokenized_text = ' '.join(TreebankWordTokenizer().tokenize(text))\n",
    "        lammetized_text = ' '.join([WordNetLemmatizer().lemmatize(i) for i in tokenized_text.split(' ')])\n",
    "        return lammetized_text\n",
    "    return ''"
   ]
  },
  {
   "cell_type": "code",
   "execution_count": 6,
   "metadata": {},
   "outputs": [],
   "source": [
    "X_train_df, X_val_df, Y_train, Y_val = train_test_split(train_df[['Review Text','App Version Code']], train_df['Star Rating'], test_size=0.2, random_state=0,)"
   ]
  },
  {
   "cell_type": "code",
   "execution_count": 7,
   "metadata": {},
   "outputs": [],
   "source": [
    "def train_feature_extractor(X_train):\n",
    "    X_train['Review Text'] = X_train['Review Text'].fillna('')\n",
    "    X_train['Review Text'] = X_train['Review Text'].apply(tokenizer)\n",
    "    return X_train\n",
    "\n",
    "def test_feature_extractor(X_val):\n",
    "    X_val['Review Text'] = X_val['Review Text'].fillna('')\n",
    "    X_val['Review Text'] = X_val['Review Text'].apply(tokenizer)\n",
    "    return X_val"
   ]
  },
  {
   "cell_type": "code",
   "execution_count": 8,
   "metadata": {},
   "outputs": [],
   "source": [
    "X_train=train_feature_extractor(X_train_df)\n",
    "X_val=test_feature_extractor(X_val_df)"
   ]
  },
  {
   "cell_type": "code",
   "execution_count": 9,
   "metadata": {},
   "outputs": [
    {
     "data": {
      "text/html": [
       "<div>\n",
       "<style scoped>\n",
       "    .dataframe tbody tr th:only-of-type {\n",
       "        vertical-align: middle;\n",
       "    }\n",
       "\n",
       "    .dataframe tbody tr th {\n",
       "        vertical-align: top;\n",
       "    }\n",
       "\n",
       "    .dataframe thead th {\n",
       "        text-align: right;\n",
       "    }\n",
       "</style>\n",
       "<table border=\"1\" class=\"dataframe\">\n",
       "  <thead>\n",
       "    <tr style=\"text-align: right;\">\n",
       "      <th></th>\n",
       "      <th>Review Text</th>\n",
       "      <th>App Version Code</th>\n",
       "    </tr>\n",
       "  </thead>\n",
       "  <tbody>\n",
       "    <tr>\n",
       "      <th>4854</th>\n",
       "      <td>it 's awesome</td>\n",
       "      <td>78.0</td>\n",
       "    </tr>\n",
       "    <tr>\n",
       "      <th>2590</th>\n",
       "      <td>it 's awesome</td>\n",
       "      <td>75.0</td>\n",
       "    </tr>\n",
       "    <tr>\n",
       "      <th>2466</th>\n",
       "      <td>hey niki i want my cash back not credited to m...</td>\n",
       "      <td>62.0</td>\n",
       "    </tr>\n",
       "    <tr>\n",
       "      <th>1875</th>\n",
       "      <td>dont install app and waste your time the app i...</td>\n",
       "      <td>NaN</td>\n",
       "    </tr>\n",
       "    <tr>\n",
       "      <th>5628</th>\n",
       "      <td>use refral coad [ mahaveer4 ] to get r 20 join...</td>\n",
       "      <td>37.0</td>\n",
       "    </tr>\n",
       "  </tbody>\n",
       "</table>\n",
       "</div>"
      ],
      "text/plain": [
       "                                            Review Text  App Version Code\n",
       "4854                                      it 's awesome              78.0\n",
       "2590                                      it 's awesome              75.0\n",
       "2466  hey niki i want my cash back not credited to m...              62.0\n",
       "1875  dont install app and waste your time the app i...               NaN\n",
       "5628  use refral coad [ mahaveer4 ] to get r 20 join...              37.0"
      ]
     },
     "execution_count": 9,
     "metadata": {},
     "output_type": "execute_result"
    }
   ],
   "source": [
    "X_train.head()"
   ]
  },
  {
   "cell_type": "code",
   "execution_count": 10,
   "metadata": {},
   "outputs": [
    {
     "name": "stderr",
     "output_type": "stream",
     "text": [
      "Using TensorFlow backend.\n"
     ]
    }
   ],
   "source": [
    "from keras.preprocessing.text import Tokenizer\n",
    "token=Tokenizer()\n",
    "token.fit_on_texts(X_train['Review Text'])"
   ]
  },
  {
   "cell_type": "code",
   "execution_count": 11,
   "metadata": {},
   "outputs": [],
   "source": [
    "X_train=token.texts_to_sequences(X_train['Review Text'])\n",
    "X_val=token.texts_to_sequences(X_val['Review Text'])"
   ]
  },
  {
   "cell_type": "code",
   "execution_count": 12,
   "metadata": {},
   "outputs": [
    {
     "data": {
      "text/html": [
       "<div>\n",
       "<style scoped>\n",
       "    .dataframe tbody tr th:only-of-type {\n",
       "        vertical-align: middle;\n",
       "    }\n",
       "\n",
       "    .dataframe tbody tr th {\n",
       "        vertical-align: top;\n",
       "    }\n",
       "\n",
       "    .dataframe thead th {\n",
       "        text-align: right;\n",
       "    }\n",
       "</style>\n",
       "<table border=\"1\" class=\"dataframe\">\n",
       "  <thead>\n",
       "    <tr style=\"text-align: right;\">\n",
       "      <th></th>\n",
       "      <th>Review Text</th>\n",
       "      <th>App Version Code</th>\n",
       "      <th>len</th>\n",
       "    </tr>\n",
       "  </thead>\n",
       "  <tbody>\n",
       "    <tr>\n",
       "      <th>4854</th>\n",
       "      <td>it 's awesome</td>\n",
       "      <td>78.0</td>\n",
       "      <td>3</td>\n",
       "    </tr>\n",
       "    <tr>\n",
       "      <th>2590</th>\n",
       "      <td>it 's awesome</td>\n",
       "      <td>75.0</td>\n",
       "      <td>3</td>\n",
       "    </tr>\n",
       "    <tr>\n",
       "      <th>2466</th>\n",
       "      <td>hey niki i want my cash back not credited to m...</td>\n",
       "      <td>62.0</td>\n",
       "      <td>17</td>\n",
       "    </tr>\n",
       "    <tr>\n",
       "      <th>1875</th>\n",
       "      <td>dont install app and waste your time the app i...</td>\n",
       "      <td>NaN</td>\n",
       "      <td>27</td>\n",
       "    </tr>\n",
       "    <tr>\n",
       "      <th>5628</th>\n",
       "      <td>use refral coad [ mahaveer4 ] to get r 20 join...</td>\n",
       "      <td>37.0</td>\n",
       "      <td>18</td>\n",
       "    </tr>\n",
       "  </tbody>\n",
       "</table>\n",
       "</div>"
      ],
      "text/plain": [
       "                                            Review Text ...   len\n",
       "4854                                      it 's awesome ...     3\n",
       "2590                                      it 's awesome ...     3\n",
       "2466  hey niki i want my cash back not credited to m... ...    17\n",
       "1875  dont install app and waste your time the app i... ...    27\n",
       "5628  use refral coad [ mahaveer4 ] to get r 20 join... ...    18\n",
       "\n",
       "[5 rows x 3 columns]"
      ]
     },
     "execution_count": 12,
     "metadata": {},
     "output_type": "execute_result"
    }
   ],
   "source": [
    "def mlen(row):\n",
    "    s=row['Review Text'].split(' ')\n",
    "    return len(s)\n",
    "\n",
    "X_train_df['len']=X_train_df.apply(mlen,axis=1)\n",
    "X_train_df.head()"
   ]
  },
  {
   "cell_type": "code",
   "execution_count": 13,
   "metadata": {},
   "outputs": [
    {
     "data": {
      "text/plain": [
       "395"
      ]
     },
     "execution_count": 13,
     "metadata": {},
     "output_type": "execute_result"
    }
   ],
   "source": [
    "max(X_train_df['len'])"
   ]
  },
  {
   "cell_type": "code",
   "execution_count": 14,
   "metadata": {},
   "outputs": [
    {
     "data": {
      "text/plain": [
       "174"
      ]
     },
     "execution_count": 14,
     "metadata": {},
     "output_type": "execute_result"
    }
   ],
   "source": [
    "X_val_df['len']=X_val_df.apply(mlen,axis=1)\n",
    "max(X_val_df['len'])"
   ]
  },
  {
   "cell_type": "code",
   "execution_count": 15,
   "metadata": {},
   "outputs": [],
   "source": [
    "from keras.preprocessing.sequence import pad_sequences\n",
    "X_train=pad_sequences(X_train,maxlen=395,padding='post')\n",
    "X_val=pad_sequences(X_val,maxlen=395,padding='post')"
   ]
  },
  {
   "cell_type": "code",
   "execution_count": 16,
   "metadata": {},
   "outputs": [],
   "source": [
    "from sklearn.preprocessing import StandardScaler\n",
    "from sklearn.impute import SimpleImputer\n",
    "imp_mode = SimpleImputer(missing_values=np.nan, strategy='most_frequent')\n",
    "scaler = StandardScaler()\n",
    "def append_version_code_feature_train(df,text_features):\n",
    "    app_version_matrix = imp_mode.fit_transform(df['App Version Code'].as_matrix().reshape(-1,1))\n",
    "    app_version_matrix = scaler.fit_transform(app_version_matrix)\n",
    "    X = np.concatenate((app_version_matrix,text_features),axis=1)\n",
    "    return X\n",
    "def append_version_code_feature_test(df,text_features):\n",
    "    app_version_matrix = imp_mode.transform(df['App Version Code'].as_matrix().reshape(-1,1))\n",
    "    app_version_matrix = scaler.transform(app_version_matrix)\n",
    "    X = np.concatenate((app_version_matrix,text_features),axis=1)\n",
    "    return X\n"
   ]
  },
  {
   "cell_type": "code",
   "execution_count": 17,
   "metadata": {},
   "outputs": [],
   "source": [
    "X_train=append_version_code_feature_train(X_train_df,X_train)\n",
    "X_val=append_version_code_feature_test(X_val_df,X_val)"
   ]
  },
  {
   "cell_type": "code",
   "execution_count": 18,
   "metadata": {},
   "outputs": [],
   "source": [
    "from sklearn.preprocessing import OneHotEncoder\n",
    "ohe=OneHotEncoder()\n",
    "Y_tr=Y_train.as_matrix()\n",
    "Y_tr=Y_tr.reshape(-1,1)\n",
    "Y_tr=ohe.fit_transform(Y_tr)\n",
    "Y_v=Y_val.as_matrix()\n",
    "Y_v=Y_v.reshape(-1,1)\n",
    "Y_v=ohe.transform(Y_v)"
   ]
  },
  {
   "cell_type": "code",
   "execution_count": 19,
   "metadata": {},
   "outputs": [],
   "source": [
    "from keras.models import Sequential\n",
    "from keras.layers import Dense,Dropout,Embedding,LSTM,Bidirectional\n"
   ]
  },
  {
   "cell_type": "code",
   "execution_count": 20,
   "metadata": {},
   "outputs": [
    {
     "data": {
      "text/plain": [
       "4632"
      ]
     },
     "execution_count": 20,
     "metadata": {},
     "output_type": "execute_result"
    }
   ],
   "source": [
    "len(token.word_index)"
   ]
  },
  {
   "cell_type": "code",
   "execution_count": 21,
   "metadata": {},
   "outputs": [],
   "source": [
    "model=Sequential()\n",
    "model.add(Embedding(4633,500))\n",
    "model.add(Bidirectional(LSTM(1024),merge_mode='concat', weights=None))\n",
    "model.add(Dense(5,activation='softmax'))"
   ]
  },
  {
   "cell_type": "code",
   "execution_count": 22,
   "metadata": {},
   "outputs": [
    {
     "name": "stdout",
     "output_type": "stream",
     "text": [
      "_________________________________________________________________\n",
      "Layer (type)                 Output Shape              Param #   \n",
      "=================================================================\n",
      "embedding_1 (Embedding)      (None, None, 500)         2316500   \n",
      "_________________________________________________________________\n",
      "bidirectional_1 (Bidirection (None, 2048)              12492800  \n",
      "_________________________________________________________________\n",
      "dense_1 (Dense)              (None, 5)                 10245     \n",
      "=================================================================\n",
      "Total params: 14,819,545\n",
      "Trainable params: 14,819,545\n",
      "Non-trainable params: 0\n",
      "_________________________________________________________________\n"
     ]
    }
   ],
   "source": [
    "model.summary()"
   ]
  },
  {
   "cell_type": "code",
   "execution_count": 23,
   "metadata": {},
   "outputs": [],
   "source": [
    "model.compile(optimizer='Adam',loss='categorical_crossentropy',metrics=['accuracy'])"
   ]
  },
  {
   "cell_type": "code",
   "execution_count": 24,
   "metadata": {},
   "outputs": [
    {
     "name": "stdout",
     "output_type": "stream",
     "text": [
      "Train on 4554 samples, validate on 1139 samples\n",
      "Epoch 1/5\n",
      "4554/4554 [==============================] - 86s 19ms/step - loss: 0.9520 - acc: 0.6845 - val_loss: 0.7060 - val_acc: 0.7823\n",
      "Epoch 2/5\n",
      "4554/4554 [==============================] - 80s 18ms/step - loss: 0.6412 - acc: 0.7997 - val_loss: 0.7097 - val_acc: 0.7805\n",
      "Epoch 3/5\n",
      "4554/4554 [==============================] - 79s 17ms/step - loss: 0.5612 - acc: 0.8160 - val_loss: 0.7397 - val_acc: 0.7805\n",
      "Epoch 4/5\n",
      "4554/4554 [==============================] - 79s 17ms/step - loss: 0.4956 - acc: 0.8316 - val_loss: 0.7629 - val_acc: 0.7700\n",
      "Epoch 5/5\n",
      "4554/4554 [==============================] - 80s 17ms/step - loss: 0.5208 - acc: 0.8309 - val_loss: 0.8075 - val_acc: 0.7436\n"
     ]
    },
    {
     "data": {
      "text/plain": [
       "<keras.callbacks.History at 0x7fcfca0e39e8>"
      ]
     },
     "execution_count": 24,
     "metadata": {},
     "output_type": "execute_result"
    }
   ],
   "source": [
    "model.fit(X_train,Y_tr,batch_size=64,epochs=5,validation_data=(X_val,Y_v))"
   ]
  },
  {
   "cell_type": "code",
   "execution_count": 25,
   "metadata": {},
   "outputs": [
    {
     "name": "stdout",
     "output_type": "stream",
     "text": [
      "BI-LSTM\n",
      "training weighted fscore: 0.8278954431162214\n",
      "test weighted fscore: 0.7051888422338611\n"
     ]
    }
   ],
   "source": [
    "from sklearn.metrics import f1_score\n",
    "print('BI-LSTM')\n",
    "s=model.predict(X_train)\n",
    "s=np.argmax(s,axis=1)+1\n",
    "print('training weighted fscore: {}'.format(f1_score(Y_train, s, average='weighted')))\n",
    "s=model.predict(X_val)\n",
    "s=np.argmax(s,axis=1)+1\n",
    "print('test weighted fscore: {}'.format(f1_score(Y_val,s, average='weighted')))"
   ]
  },
  {
   "cell_type": "code",
   "execution_count": 26,
   "metadata": {},
   "outputs": [],
   "source": [
    "def failed_examples(predictions):\n",
    "    check = np.equal(Y_val,predictions,dtype=int)\n",
    "    ind = np.where(check == 0)\n",
    "    ind = list(ind[0])\n",
    "    X_temp = X_val_df.reset_index(drop=True)\n",
    "    fail_df = X_temp[X_temp.index.isin(ind)]\n",
    "    Y_temp = Y_val.reset_index(drop=True)\n",
    "    fail_rating = Y_temp[Y_temp.index.isin(ind)]\n",
    "    fail_df['Star Rating'] = fail_rating\n",
    "    #print(predictions[ind].shape)\n",
    "    fail_df['Predicted Star Rating'] = predictions[ind]\n",
    "    return fail_df.reset_index(drop=True)"
   ]
  },
  {
   "cell_type": "code",
   "execution_count": 27,
   "metadata": {},
   "outputs": [
    {
     "name": "stdout",
     "output_type": "stream",
     "text": [
      "['unresponsive app .', 'expected more .', 'hopeless app. the interface is fine but credit or cashback are retained by app itself .', 'not❌', 'need to improve more', 'keep worsting', 'very good app for recharge and bill pay', 'thought of trying out niki to pay bills.. thought it would be fast ... but guess what niki just kept typing whole sunday afternoon ... sometimes it gave me the menu option again and again ... quite disappointing..', 'please add gescom in electricity bill payment', 'roobing customer', 'i want customer support contact number right now', 'hehehe ... ... ... .', \"this is a promising app but sadly it just doe n't get the job done most of the time.it 's more fancy than useful .\", 'why doe the app restricate the complete use of cashback credit ?', 'amazon payment is declining while booking the bus ticket', 'thnks issue sorted but account not yet credited i will give full star once refund is successful.😊😊', 'human mind is faster than your ai , so it of kinda worst every time to type something and wait for some response .', 'very difficult to understand', 'the app need a lot of improvement. i hope to see you around soon ... with a betr versn', \"doe n't work. click on payment and wait forever .\", 'worsttiest app', \"doe n't support tsspdcl bill payment\", 'i like when they start pay rs. 1 and get 20 rs. cashback on amazon pay ... but now they stop this service ... bad please restart this offer', 'very good apps & cashback offer', 'my all electricity bill transaction are failing all time', 'cashback issue']\n"
     ]
    }
   ],
   "source": [
    "df=failed_examples(s)\n",
    "print(list(df[(df['Star Rating']<=2) & (df['Predicted Star Rating']>=4)]['Review Text']))"
   ]
  }
 ],
 "metadata": {
  "kernelspec": {
   "display_name": "Python 3",
   "language": "python",
   "name": "python3"
  },
  "language_info": {
   "codemirror_mode": {
    "name": "ipython",
    "version": 3
   },
   "file_extension": ".py",
   "mimetype": "text/x-python",
   "name": "python",
   "nbconvert_exporter": "python",
   "pygments_lexer": "ipython3",
   "version": "3.6.6"
  }
 },
 "nbformat": 4,
 "nbformat_minor": 1
}
